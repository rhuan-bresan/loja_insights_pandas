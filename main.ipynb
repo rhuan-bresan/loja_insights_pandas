{
 "cells": [
  {
   "cell_type": "code",
   "execution_count": null,
   "id": "56113d96-e217-41d9-8208-eb164ee4f4f7",
   "metadata": {
    "tags": []
   },
   "outputs": [],
   "source": [
    "import pandas as pd # importando a biblioteca pandas\n",
    "import seaborn as sns # importando a biblioteca seaborn\n",
    "import matplotlib.pyplot as plt # importando a biblioteca matplotlib"
   ]
  },
  {
   "cell_type": "code",
   "execution_count": null,
   "id": "2aee4f19",
   "metadata": {},
   "outputs": [],
   "source": [
    "#adptando para o jupyter notebook, assim, fazendo os gráficos surgiram nas caixas de resultado\n",
    "%matplotlib inline "
   ]
  },
  {
   "cell_type": "code",
   "execution_count": null,
   "id": "ae6aa97f-7e4a-4aad-980e-aba4b5a2675e",
   "metadata": {
    "tags": []
   },
   "outputs": [],
   "source": [
    "clientes = pd.read_csv(\"../loja_insights_pandas/data/clientes.csv\") # importando a base de clientes\n",
    "clientes"
   ]
  },
  {
   "cell_type": "code",
   "execution_count": null,
   "id": "fe8aef28-8915-43f5-89ff-c11b4b0c505a",
   "metadata": {
    "tags": []
   },
   "outputs": [],
   "source": [
    "produtos = pd.read_csv(\"../loja_insights_pandas/data/produtos.csv\") # importando a base de produtos\n",
    "produtos = produtos.rename(columns={\"Nome\": \"Nome_Produto\"}) # renomeando a coluna \n",
    "produtos = produtos[list([\"Produto_ID\", \"Nome_Produto\", \"Categoria\"])] # selecionando as colunas\n",
    "produtos"
   ]
  },
  {
   "cell_type": "code",
   "execution_count": null,
   "id": "7a97f4f3-765f-4132-b5f9-091b1579ebbc",
   "metadata": {
    "tags": []
   },
   "outputs": [],
   "source": [
    "vendas = pd.read_csv(\"../loja_insights_pandas/data/vendas.csv\") # importando a base de vendas\n",
    "vendas"
   ]
  },
  {
   "cell_type": "code",
   "execution_count": null,
   "id": "df788e34-b778-4ec6-8987-34334141d4b8",
   "metadata": {},
   "outputs": [],
   "source": [
    "vendas_cliente = pd.merge(clientes, vendas, how=\"left\", on=[\"Cliente_ID\"]) # unindo as bases de clientes e de vendas pela chave Cliente_ID"
   ]
  },
  {
   "cell_type": "code",
   "execution_count": null,
   "id": "74b8f6d2-1cc5-4e73-b75c-c3af3ab34293",
   "metadata": {
    "tags": []
   },
   "outputs": [],
   "source": [
    "vendas_cliente"
   ]
  },
  {
   "cell_type": "code",
   "execution_count": null,
   "id": "5db8fca5-5a0e-42fd-b9dc-1f47c5f73efe",
   "metadata": {},
   "outputs": [],
   "source": [
    "vendas_geral = pd.merge(vendas_cliente, produtos, how=\"left\", on=[\"Produto_ID\"]) # unindo a base criada anteriormente com a de produtos pela chave Produto_ID\n",
    "vendas_geral = vendas_geral.rename(columns={\"Nome\": \"Nome_Cliente\"}) # renomeando a coluna\n",
    "vendas_geral\n"
   ]
  },
  {
   "cell_type": "code",
   "execution_count": null,
   "id": "8c6d02a9-3c26-45f7-9c5f-6f0e5f3b68e7",
   "metadata": {
    "tags": []
   },
   "outputs": [],
   "source": [
    "vendas_geral[\"Data\"] = pd.to_datetime(vendas_geral[\"Data\"]) # transformando a coluna data em formato datetime\n",
    "vendas_geral[\"Mês\"] = vendas_geral[\"Data\"].dt.to_period(\"M\") # criando a coluna mês deixando apenas o mês da compra\n",
    "vendas_geral['Mês'] = vendas_geral['Mês'].dt.to_timestamp() # transformando a coluna data em formato timestamp\n",
    "vendas_mes = vendas_geral.groupby(\"Mês\")[\"Valor_Total\"].sum().reset_index() # agrupando a soma do valor total por cada mês\n",
    "vendas_mes = vendas_mes.rename(columns={\"Valor_Total\": \"Total\"}) # renomeando a coluna\n",
    "print(vendas_mes)\n",
    "barra = sns.barplot(data=vendas_mes, x=\"Mês\", y=\"Total\") # criando o gráfico de barras\n",
    "plt.xticks(rotation=45) # rotacionando o texto de mês no eixo X\n",
    "for i, (_, row) in enumerate(vendas_mes.iterrows()): # aplicando o valor da barra para o índice da ordenação e não no índice primário do DataFrame\n",
    "    barra.text( # aplicando o valor do total dentro das barras\n",
    "        x=i, \n",
    "        y=row['Total'] * 0.5, \n",
    "        s=row['Total'], \n",
    "        ha='center', \n",
    "        va='bottom', \n",
    "        rotation=90,\n",
    "        fontsize=7,\n",
    "        \n",
    "    )\n",
    "plt.title(\"Quantidade de vendas por mês\") # colocando o título no gráfico\n",
    "plt.show()"
   ]
  },
  {
   "cell_type": "code",
   "execution_count": null,
   "id": "e51cd467-6ed5-42a6-98e5-951b8d7a45a5",
   "metadata": {
    "tags": []
   },
   "outputs": [],
   "source": [
    "vendas_produtos = vendas_geral.groupby([\"Mês\", \"Nome_Produto\"])[\"Produto_ID\"].count().reset_index() # agrupando a quantidade de produtos vendidos por cada mês\n",
    "vendas_produtos = vendas_produtos.rename(columns={\"Produto_ID\": \"Quantidade de Produtos\"}) # renomeando a coluna\n",
    "print(vendas_produtos)\n",
    "plt.figure(figsize=(16,6)) # definindo o tamanho da imagem do gráfico\n",
    "barra = sns.barplot(data=vendas_produtos, x=\"Mês\", y=\"Quantidade de Produtos\", hue=\"Nome_Produto\",) # criando o gráfico de barras para três elementos\n",
    "plt.xticks(rotation=45) # rotacionando o texto de mês no eixo X\n",
    "plt.title(\"Quantidade de vendas no mês por produto\") # colocando o título no gráfico\n",
    "plt.show()"
   ]
  },
  {
   "cell_type": "code",
   "execution_count": null,
   "id": "a188b1d6-1632-4f4b-bd48-ab26d37baf71",
   "metadata": {
    "tags": []
   },
   "outputs": [],
   "source": [
    "vendas_categorias = vendas_geral.groupby([\"Mês\", \"Categoria\"])[\"Produto_ID\"].count().reset_index() # agrupando a quantidade de categorias vendidos por cada mês\n",
    "vendas_categorias = vendas_categorias.rename(columns={\"Produto_ID\": \"Quantidade de Produtos\"}) # renomeando a coluna\n",
    "print(vendas_categorias)\n",
    "plt.figure(figsize=(10,6)) # definindo o tamanho da imagem do gráfico\n",
    "barra = sns.barplot(data=vendas_categorias, x=\"Mês\", y=\"Quantidade de Produtos\", hue=\"Categoria\",) # criando o gráfico de barras para três elementos\n",
    "plt.xticks(rotation=45) # rotacionando o texto de mês no eixo X\n",
    "\n",
    "plt.title(\"Quantidade de vendas no mês por categoria\") # colocando o título no gráfico \n",
    "plt.show()"
   ]
  },
  {
   "cell_type": "code",
   "execution_count": null,
   "id": "784dc40d",
   "metadata": {},
   "outputs": [],
   "source": [
    "produto_mais = vendas_geral.groupby(\"Nome_Produto\")[\"Produto_ID\"].count().reset_index() # agrupando a quantidade de produtos \n",
    "produto_mais = produto_mais.rename(columns={\"Produto_ID\": \"Quantidade de Produtos\"}) # renomeando a coluna\n",
    "produto_mais = produto_mais.sort_values(\"Quantidade de Produtos\", ascending=False) # ordenando em ordem decrescente a quantidade de produtos\n",
    "print(produto_mais)\n",
    "barra = sns.barplot(data=produto_mais, x=\"Quantidade de Produtos\", y=\"Nome_Produto\") # criando o gráfico de barras\n",
    "for i, (_, row) in enumerate(produto_mais.iterrows()): # aplicando o valor da barra para o índice da ordenação e não no índice primário do DataFrame\n",
    "    barra.text( # aplicando o valor do total dentro das barras\n",
    "        x=row['Quantidade de Produtos'] * 0.5, \n",
    "        y=i, \n",
    "        s=row['Quantidade de Produtos'], \n",
    "        ha='center', \n",
    "        va='center', \n",
    "        fontsize=7,\n",
    "            \n",
    "    )\n",
    "plt.title(\"Produtos mais vendidos\") # colocando o título no gráfico\n",
    "plt.tight_layout()\n",
    "plt.show()"
   ]
  },
  {
   "cell_type": "code",
   "execution_count": null,
   "id": "e11a1597",
   "metadata": {},
   "outputs": [],
   "source": [
    "cliente_mais = vendas_geral.groupby(\"Nome_Cliente\")[\"Cliente_ID\"].count().reset_index() # agrupando a quantidade de compras de cada cliente\n",
    "cliente_mais = cliente_mais.rename(columns={\"Cliente_ID\": \"Quantidade de Compras\"}) # renomeando a coluna\n",
    "cliente_mais = cliente_mais.sort_values(\"Quantidade de Compras\", ascending=False) # ordenando em ordem decrescente a quantidade de compras\n",
    "print(cliente_mais)\n",
    "plt.figure(figsize=(10, 6)) # definindo o tamanho da imagem do gráfico\n",
    "barra = sns.barplot(data=cliente_mais, x=\"Quantidade de Compras\", y=\"Nome_Cliente\") # criando o gráfico de barras\n",
    "for i, (_, row) in enumerate(cliente_mais.iterrows()): # aplicando o valor da barra para o índice da ordenação e não no índice primário do DataFrame\n",
    "    barra.text( # aplicando o valor do total dentro das barras\n",
    "        x=row[\"Quantidade de Compras\"] * 0.5, \n",
    "        y=i, \n",
    "        s=row[\"Quantidade de Compras\"], \n",
    "        ha='center', \n",
    "        va='center', \n",
    "        fontsize=7,\n",
    "            \n",
    "    )\n",
    "plt.title(\"Clientes de mais compraram\") # colocando o título no gráfico\n",
    "plt.tight_layout()\n",
    "plt.show()"
   ]
  }
 ],
 "metadata": {
  "kernelspec": {
   "display_name": "Python 3",
   "language": "python",
   "name": "python3"
  },
  "language_info": {
   "codemirror_mode": {
    "name": "ipython",
    "version": 3
   },
   "file_extension": ".py",
   "mimetype": "text/x-python",
   "name": "python",
   "nbconvert_exporter": "python",
   "pygments_lexer": "ipython3",
   "version": "3.12.4"
  }
 },
 "nbformat": 4,
 "nbformat_minor": 5
}
